{
  "nbformat": 4,
  "nbformat_minor": 0,
  "metadata": {
    "colab": {
      "provenance": []
    },
    "kernelspec": {
      "name": "python3",
      "display_name": "Python 3"
    },
    "language_info": {
      "name": "python"
    }
  },
  "cells": [
    {
      "cell_type": "code",
      "execution_count": 1,
      "metadata": {
        "id": "WKHfjc1Vui39"
      },
      "outputs": [],
      "source": [
        "import openpyxl\n",
        "from openpyxl.styles import Font\n",
        "from openpyxl.worksheet.hyperlink import Hyperlink\n"
      ]
    },
    {
      "cell_type": "code",
      "source": [
        "def present_value_annuity(payment, rate, periods):\n",
        "    \"\"\"Calculate the present value of an ordinary annuity.\"\"\"\n",
        "    if rate == 0:\n",
        "        return payment * periods\n",
        "    else:\n",
        "        return payment * (1 - (1 + rate) ** -periods) / rate\n"
      ],
      "metadata": {
        "id": "Mjn4W4E0ujex"
      },
      "execution_count": 2,
      "outputs": []
    },
    {
      "cell_type": "code",
      "source": [
        "payment = 1000  # Fixed payment per period\n",
        "rate = 0.05  # 5% annual interest rate\n",
        "periods = 10  # 10 years\n"
      ],
      "metadata": {
        "id": "7VQsctXYujiS"
      },
      "execution_count": 3,
      "outputs": []
    },
    {
      "cell_type": "code",
      "source": [
        "pv = present_value_annuity(payment, rate, periods)"
      ],
      "metadata": {
        "id": "R8K728VDujlK"
      },
      "execution_count": 4,
      "outputs": []
    },
    {
      "cell_type": "code",
      "source": [
        "wb = openpyxl.Workbook()\n",
        "ws = wb.active\n",
        "ws.title = \"Annuity Calculation\"\n"
      ],
      "metadata": {
        "id": "5oYaxMcgujn8"
      },
      "execution_count": 5,
      "outputs": []
    },
    {
      "cell_type": "code",
      "source": [
        "headers = [\"Payment ($)\", \"Rate (%)\", \"Periods\", \"Present Value ($)\"]\n",
        "ws.append(headers)"
      ],
      "metadata": {
        "id": "_1875nPwujrC"
      },
      "execution_count": 6,
      "outputs": []
    },
    {
      "cell_type": "code",
      "source": [
        "for col in range(1, 5):\n",
        "    ws.cell(row=1, column=col).font = Font(bold=True)\n"
      ],
      "metadata": {
        "id": "j073JTyUujt7"
      },
      "execution_count": 7,
      "outputs": []
    },
    {
      "cell_type": "code",
      "source": [
        "ws.append([payment, rate * 100, periods, round(pv, 2)])"
      ],
      "metadata": {
        "id": "hU6MZxskujw3"
      },
      "execution_count": 8,
      "outputs": []
    },
    {
      "cell_type": "code",
      "source": [
        "colab_link = \"https://colab.research.google.com/drive/YOUR_NOTEBOOK_ID\"\n",
        "ws.cell(row=3, column=1, value=\"Open Google Colab\").hyperlink = colab_link\n",
        "ws.cell(row=3, column=1).font = Font(color=\"0000FF\", underline=\"single\")\n"
      ],
      "metadata": {
        "id": "OVWW21Uqujzb"
      },
      "execution_count": 9,
      "outputs": []
    },
    {
      "cell_type": "code",
      "source": [
        "file_path = \"/content/annuity_calculations.xlsx\"\n",
        "wb.save(file_path)"
      ],
      "metadata": {
        "id": "rrLSeqwGu_Ao"
      },
      "execution_count": 10,
      "outputs": []
    },
    {
      "cell_type": "code",
      "source": [
        "print(f\"Excel file saved at: {file_path}\")"
      ],
      "metadata": {
        "colab": {
          "base_uri": "https://localhost:8080/"
        },
        "id": "a4DQGMSMu_F-",
        "outputId": "70e2d36a-c6aa-4002-f601-c5225adc91f0"
      },
      "execution_count": 11,
      "outputs": [
        {
          "output_type": "stream",
          "name": "stdout",
          "text": [
            "Excel file saved at: /content/annuity_calculations.xlsx\n"
          ]
        }
      ]
    },
    {
      "cell_type": "code",
      "source": [
        "def bond_price(face_value, coupon_rate, market_rate, years, payments_per_year):\n",
        "    \"\"\"Calculate bond price with periodic coupon payments.\"\"\"\n",
        "    coupon_payment = (coupon_rate / payments_per_year) * face_value\n",
        "    discount_rate = market_rate / payments_per_year\n",
        "    price = sum(coupon_payment / (1 + discount_rate) ** i for i in range(1, years * payments_per_year + 1))\n",
        "    price += face_value / (1 + discount_rate) ** (years * payments_per_year)\n",
        "    return round(price, 2)\n",
        "\n",
        "# Example calculation\n",
        "bond_price(face_value=1000, coupon_rate=0.05, market_rate=0.04, years=10, payments_per_year=2)\n"
      ],
      "metadata": {
        "colab": {
          "base_uri": "https://localhost:8080/"
        },
        "id": "zDK8BFHlwVUk",
        "outputId": "bca727f7-0231-47a7-c9d7-4ab74b9cee5e"
      },
      "execution_count": 12,
      "outputs": [
        {
          "output_type": "execute_result",
          "data": {
            "text/plain": [
              "1081.76"
            ]
          },
          "metadata": {},
          "execution_count": 12
        }
      ]
    },
    {
      "cell_type": "code",
      "source": [
        "def bond_duration(face_value, coupon_rate, market_rate, years, payments_per_year):\n",
        "    \"\"\"Calculate Macaulay Duration of a bond.\"\"\"\n",
        "    coupon_payment = (coupon_rate / payments_per_year) * face_value\n",
        "    discount_rate = market_rate / payments_per_year\n",
        "    price = 0\n",
        "    duration = 0\n",
        "\n",
        "    for i in range(1, years * payments_per_year + 1):\n",
        "        weight = i / payments_per_year\n",
        "        price += coupon_payment / (1 + discount_rate) ** i\n",
        "        duration += (weight * coupon_payment) / (1 + discount_rate) ** i\n",
        "\n",
        "    weight = years\n",
        "    price += face_value / (1 + discount_rate) ** (years * payments_per_year)\n",
        "    duration += (weight * face_value) / (1 + discount_rate) ** (years * payments_per_year)\n",
        "\n",
        "    return round(duration / price, 2)\n",
        "\n",
        "# Example calculation\n",
        "bond_duration(face_value=1000, coupon_rate=0.05, market_rate=0.04, years=10, payments_per_year=2)\n"
      ],
      "metadata": {
        "colab": {
          "base_uri": "https://localhost:8080/"
        },
        "id": "vUneAuGJwVXr",
        "outputId": "f76218ec-3454-4724-8538-530d654d2654"
      },
      "execution_count": 13,
      "outputs": [
        {
          "output_type": "execute_result",
          "data": {
            "text/plain": [
              "8.08"
            ]
          },
          "metadata": {},
          "execution_count": 13
        }
      ]
    },
    {
      "cell_type": "code",
      "source": [
        "def bond_price(yield_rate, face_value, coupon_rate, years, freq, market_price):\n",
        "    \"\"\"Compute bond price given a yield.\"\"\"\n",
        "    total_periods = years * freq\n",
        "    coupon_payment = (coupon_rate * face_value) / freq\n",
        "    price = sum([coupon_payment / (1 + yield_rate / freq) ** t for t in range(1, total_periods + 1)])\n",
        "    price += face_value / (1 + yield_rate / freq) ** total_periods\n",
        "    return price - market_price  # Difference from actual price (for root finding)"
      ],
      "metadata": {
        "id": "x6FEl0xCwVal"
      },
      "execution_count": 18,
      "outputs": []
    },
    {
      "cell_type": "code",
      "source": [
        "def bisection_ytm(face_value, coupon_rate, years, freq, market_price, tol=1e-6):\n",
        "    \"\"\"Use the Bisection Method to find YTM.\"\"\"\n",
        "    low, high = 0, 1  # Initial bounds for YTM (0% to 100%)\n",
        "\n",
        "    while high - low > tol:\n",
        "        mid = (low + high) / 2\n",
        "        price_diff = bond_price(mid, face_value, coupon_rate, years, freq, market_price)\n",
        "\n",
        "        if abs(price_diff) < tol:  # Root found\n",
        "            return mid\n",
        "        elif price_diff > 0:\n",
        "            low = mid  # Yield is too low\n",
        "        else:\n",
        "            high = mid  # Yield is too high\n",
        "\n",
        "    return (low + high) / 2  # Return approximate YTM"
      ],
      "metadata": {
        "id": "RAIGntKawVdj"
      },
      "execution_count": 19,
      "outputs": []
    },
    {
      "cell_type": "code",
      "source": [
        "face_value = 1000      # Face value of the bond\n",
        "coupon_rate = 0.05     # 5% annual coupon rate\n",
        "years = 10             # Maturity in years\n",
        "freq = 2              # Semi-annual coupon payments\n",
        "market_price = 1081.76  # Market price of the bond\n"
      ],
      "metadata": {
        "id": "RNe6OsgwwVgc"
      },
      "execution_count": 20,
      "outputs": []
    },
    {
      "cell_type": "code",
      "source": [
        "ytm = bisection_ytm(face_value, coupon_rate, years, freq, market_price)\n",
        "print(f\"Yield to Maturity (YTM): {ytm * 100:.4f}%\")"
      ],
      "metadata": {
        "colab": {
          "base_uri": "https://localhost:8080/"
        },
        "id": "y60ev-6mwVkB",
        "outputId": "67b197c6-9d2e-4bf0-fea3-cd29daf84665"
      },
      "execution_count": 21,
      "outputs": [
        {
          "output_type": "stream",
          "name": "stdout",
          "text": [
            "Yield to Maturity (YTM): 3.9999%\n"
          ]
        }
      ]
    },
    {
      "cell_type": "code",
      "source": [
        "import pandas as pd"
      ],
      "metadata": {
        "id": "xXN8CO4Dy-qU"
      },
      "execution_count": 22,
      "outputs": []
    },
    {
      "cell_type": "code",
      "source": [
        "def mortgage_payment(loan_amount, annual_rate, months):\n",
        "    \"\"\"Calculate fixed monthly mortgage payment.\"\"\"\n",
        "    monthly_rate = annual_rate / 12 / 100\n",
        "    return loan_amount * monthly_rate / (1 - (1 + monthly_rate) ** -months)"
      ],
      "metadata": {
        "id": "hWDUKgAyy-uV"
      },
      "execution_count": 23,
      "outputs": []
    },
    {
      "cell_type": "code",
      "source": [
        "def generate_amortization_schedule(loan_amount, annual_rate, term_years):\n",
        "    \"\"\"Generate mortgage amortization schedule.\"\"\"\n",
        "    months = term_years * 12\n",
        "    monthly_payment = mortgage_payment(loan_amount, annual_rate, months)\n",
        "    monthly_rate = annual_rate / 12 / 100\n",
        "    schedule = []\n",
        "\n",
        "    balance = loan_amount\n",
        "    for i in range(1, months + 1):\n",
        "        interest_paid = balance * monthly_rate\n",
        "        principal_paid = monthly_payment - interest_paid\n",
        "        balance -= principal_paid\n",
        "        schedule.append([i, loan_amount, monthly_payment, interest_paid, principal_paid, balance])\n",
        "\n",
        "    return pd.DataFrame(schedule, columns=[\"Month\", \"Beginning Balance\", \"Payment\", \"Interest Paid\", \"Principal Paid\", \"Ending Balance\"])\n"
      ],
      "metadata": {
        "id": "gQ1khsDSy-xs"
      },
      "execution_count": 24,
      "outputs": []
    },
    {
      "cell_type": "code",
      "source": [
        "loan_amount = 300000\n",
        "annual_rate = 5\n",
        "term_years = 30\n"
      ],
      "metadata": {
        "id": "3tTyTA4ay-1W"
      },
      "execution_count": 25,
      "outputs": []
    },
    {
      "cell_type": "code",
      "source": [
        "df = generate_amortization_schedule(loan_amount, annual_rate, term_years)\n",
        "print(df.head(12))  # Print first 12 months"
      ],
      "metadata": {
        "colab": {
          "base_uri": "https://localhost:8080/"
        },
        "id": "jKf5Qwfjy-4v",
        "outputId": "fa0a64f1-6722-4d78-9773-011073b65e6f"
      },
      "execution_count": 26,
      "outputs": [
        {
          "output_type": "stream",
          "name": "stdout",
          "text": [
            "    Month  Beginning Balance      Payment  Interest Paid  Principal Paid  \\\n",
            "0       1             300000  1610.464869    1250.000000      360.464869   \n",
            "1       2             300000  1610.464869    1248.498063      361.966806   \n",
            "2       3             300000  1610.464869    1246.989868      363.475001   \n",
            "3       4             300000  1610.464869    1245.475389      364.989480   \n",
            "4       5             300000  1610.464869    1243.954599      366.510270   \n",
            "5       6             300000  1610.464869    1242.427473      368.037396   \n",
            "6       7             300000  1610.464869    1240.893984      369.570885   \n",
            "7       8             300000  1610.464869    1239.354105      371.110764   \n",
            "8       9             300000  1610.464869    1237.807811      372.657058   \n",
            "9      10             300000  1610.464869    1236.255073      374.209796   \n",
            "10     11             300000  1610.464869    1234.695865      375.769004   \n",
            "11     12             300000  1610.464869    1233.130161      377.334708   \n",
            "\n",
            "    Ending Balance  \n",
            "0    299639.535131  \n",
            "1    299277.568325  \n",
            "2    298914.093324  \n",
            "3    298549.103844  \n",
            "4    298182.593574  \n",
            "5    297814.556178  \n",
            "6    297444.985293  \n",
            "7    297073.874530  \n",
            "8    296701.217471  \n",
            "9    296327.007675  \n",
            "10   295951.238671  \n",
            "11   295573.903963  \n"
          ]
        }
      ]
    },
    {
      "cell_type": "code",
      "source": [
        "import yfinance as yf\n",
        "import numpy as np\n",
        "import pandas as pd\n",
        "import matplotlib.pyplot as plt"
      ],
      "metadata": {
        "id": "8FADvNO7y-89"
      },
      "execution_count": 27,
      "outputs": []
    },
    {
      "cell_type": "code",
      "source": [
        "stocks = [\"AAPL\", \"MSFT\", \"TSLA\", \"GOOGL\", \"AMZN\", \"META\", \"NVDA\", \"JPM\", \"NFLX\", \"BRK-B\"]"
      ],
      "metadata": {
        "id": "HcgGl_g4y_AI"
      },
      "execution_count": 28,
      "outputs": []
    },
    {
      "cell_type": "code",
      "source": [
        "import yfinance as yf\n",
        "import pandas as pd"
      ],
      "metadata": {
        "id": "5VFOfJLOy_Du"
      },
      "execution_count": 30,
      "outputs": []
    },
    {
      "cell_type": "code",
      "source": [
        "stocks = [\"AAPL\", \"MSFT\", \"TSLA\", \"GOOGL\", \"AMZN\", \"META\", \"NVDA\", \"JPM\", \"NFLX\", \"BRK-B\"]\n",
        "\n",
        "# Download data with auto_adjust=False to get \"Adj Close\"\n",
        "data = yf.download(stocks, start=\"2023-03-01\", end=\"2024-03-01\", auto_adjust=False)\n",
        "\n",
        "# Select the \"Adj Close\" column\n",
        "adj_close = data[\"Adj Close\"]\n",
        "print(adj_close.head())"
      ],
      "metadata": {
        "colab": {
          "base_uri": "https://localhost:8080/"
        },
        "id": "Hlk_7zxUy_HT",
        "outputId": "e16b14f2-b194-4735-87f5-bb8b268f426a"
      },
      "execution_count": 31,
      "outputs": [
        {
          "output_type": "stream",
          "name": "stderr",
          "text": [
            "[*********************100%***********************]  10 of 10 completed"
          ]
        },
        {
          "output_type": "stream",
          "name": "stdout",
          "text": [
            "Ticker            AAPL       AMZN       BRK-B      GOOGL         JPM  \\\n",
            "Date                                                                   \n",
            "2023-03-01  143.859207  92.169998  304.619995  89.930054  135.494293   \n",
            "2023-03-02  144.453247  92.129997  307.750000  91.562241  134.087540   \n",
            "2023-03-03  149.522110  94.900002  312.450012  93.204391  136.549347   \n",
            "2023-03-06  152.294159  93.750000  316.970001  94.677353  135.750946   \n",
            "2023-03-07  150.086441  93.550003  311.119995  93.413406  131.758804   \n",
            "\n",
            "Ticker            META        MSFT        NFLX       NVDA        TSLA  \n",
            "Date                                                                   \n",
            "2023-03-01  172.606506  242.414490  313.480011  22.679419  202.770004  \n",
            "2023-03-02  173.711288  247.178726  311.880005  23.294912  190.899994  \n",
            "2023-03-03  184.380997  251.293289  315.179993  23.870441  197.789993  \n",
            "2023-03-06  184.032639  252.848557  312.029999  23.534714  193.809998  \n",
            "2023-03-07  183.644470  250.171112  308.470001  23.272888  187.710007  \n"
          ]
        },
        {
          "output_type": "stream",
          "name": "stderr",
          "text": [
            "\n"
          ]
        }
      ]
    },
    {
      "cell_type": "code",
      "source": [
        "data = yf.download(stocks, start=\"2023-03-01\", end=\"2024-03-01\")"
      ],
      "metadata": {
        "colab": {
          "base_uri": "https://localhost:8080/"
        },
        "id": "WWbonQbHy_KP",
        "outputId": "d51f71f8-373e-4873-ca50-500cf261b2f5"
      },
      "execution_count": 32,
      "outputs": [
        {
          "output_type": "stream",
          "name": "stderr",
          "text": [
            "[*********************100%***********************]  10 of 10 completed\n"
          ]
        }
      ]
    },
    {
      "cell_type": "code",
      "source": [
        "close_prices = data[\"Close\"]\n",
        "print(close_prices.head())"
      ],
      "metadata": {
        "colab": {
          "base_uri": "https://localhost:8080/"
        },
        "id": "nC29mKRay_NR",
        "outputId": "816f4bcd-2ed0-4bc0-83da-c563e031275c"
      },
      "execution_count": 33,
      "outputs": [
        {
          "output_type": "stream",
          "name": "stdout",
          "text": [
            "Ticker            AAPL       AMZN       BRK-B      GOOGL         JPM  \\\n",
            "Date                                                                   \n",
            "2023-03-01  143.859207  92.169998  304.619995  89.930054  135.494293   \n",
            "2023-03-02  144.453247  92.129997  307.750000  91.562241  134.087540   \n",
            "2023-03-03  149.522110  94.900002  312.450012  93.204391  136.549347   \n",
            "2023-03-06  152.294159  93.750000  316.970001  94.677353  135.750946   \n",
            "2023-03-07  150.086441  93.550003  311.119995  93.413406  131.758804   \n",
            "\n",
            "Ticker            META        MSFT        NFLX       NVDA        TSLA  \n",
            "Date                                                                   \n",
            "2023-03-01  172.606506  242.414490  313.480011  22.679419  202.770004  \n",
            "2023-03-02  173.711288  247.178726  311.880005  23.294912  190.899994  \n",
            "2023-03-03  184.380997  251.293289  315.179993  23.870441  197.789993  \n",
            "2023-03-06  184.032639  252.848557  312.029999  23.534714  193.809998  \n",
            "2023-03-07  183.644470  250.171112  308.470001  23.272888  187.710007  \n"
          ]
        }
      ]
    },
    {
      "cell_type": "code",
      "source": [
        "# Compute daily log returns\n",
        "returns = np.log(data / data.shift(1))\n",
        "\n",
        "# Drop NaN values from the first row\n",
        "returns = returns.dropna()\n",
        "returns.head()\n"
      ],
      "metadata": {
        "colab": {
          "base_uri": "https://localhost:8080/",
          "height": 405
        },
        "id": "k9yS4FO8Eh2o",
        "outputId": "c631831a-49c4-4b00-a1aa-05c7ecd1aeae"
      },
      "execution_count": 34,
      "outputs": [
        {
          "output_type": "execute_result",
          "data": {
            "text/plain": [
              "Price          Close                                                    \\\n",
              "Ticker          AAPL      AMZN     BRK-B     GOOGL       JPM      META   \n",
              "Date                                                                     \n",
              "2023-03-02  0.004121 -0.000434  0.010223  0.017987 -0.010437  0.006380   \n",
              "2023-03-03  0.034488  0.029623  0.015157  0.017776  0.018193  0.059610   \n",
              "2023-03-06  0.018370 -0.012192  0.014363  0.015680 -0.005864 -0.001891   \n",
              "2023-03-07 -0.014603 -0.002136 -0.018628 -0.013440 -0.029849 -0.002111   \n",
              "2023-03-08  0.008342  0.003947  0.000803  0.004146 -0.005933  0.002490   \n",
              "\n",
              "Price                                               ...    Volume            \\\n",
              "Ticker          MSFT      NFLX      NVDA      TSLA  ...      AAPL      AMZN   \n",
              "Date                                                ...                       \n",
              "2023-03-02  0.019463 -0.005117  0.026777 -0.060323  ... -0.060192  0.059566   \n",
              "2023-03-03  0.016509  0.010525  0.024406  0.035456  ...  0.303090  0.004497   \n",
              "2023-03-06  0.006170 -0.010045 -0.014164 -0.020328  ...  0.213399 -0.067647   \n",
              "2023-03-07 -0.010646 -0.011475 -0.011187 -0.031980  ... -0.443705 -0.059530   \n",
              "2023-03-08 -0.001772  0.010705  0.037629 -0.030892  ... -0.174101 -0.089456   \n",
              "\n",
              "Price                                                                   \\\n",
              "Ticker         BRK-B     GOOGL       JPM      META      MSFT      NFLX   \n",
              "Date                                                                     \n",
              "2023-03-02 -0.074883  0.034535  0.441957 -0.580228 -0.105383 -0.000061   \n",
              "2023-03-03  0.354452  0.087809 -0.154888  0.972271  0.215044  0.192468   \n",
              "2023-03-06  0.084631 -0.074395 -0.026825 -0.323146 -0.243600 -0.050398   \n",
              "2023-03-07 -0.303527 -0.159205  0.237805  0.099985 -0.115813 -0.217739   \n",
              "2023-03-08 -0.289780  0.203082 -0.160814 -0.635876 -0.213778 -0.268920   \n",
              "\n",
              "Price                           \n",
              "Ticker          NVDA      TSLA  \n",
              "Date                            \n",
              "2023-03-02 -0.166637  0.145952  \n",
              "2023-03-03  0.057331 -0.163053  \n",
              "2023-03-06  0.058938 -0.185395  \n",
              "2023-03-07  0.163551  0.145250  \n",
              "2023-03-08 -0.003074  0.025146  \n",
              "\n",
              "[5 rows x 50 columns]"
            ],
            "text/html": [
              "\n",
              "  <div id=\"df-8ed8acdf-d7c0-4336-90bf-225b180ca74c\" class=\"colab-df-container\">\n",
              "    <div>\n",
              "<style scoped>\n",
              "    .dataframe tbody tr th:only-of-type {\n",
              "        vertical-align: middle;\n",
              "    }\n",
              "\n",
              "    .dataframe tbody tr th {\n",
              "        vertical-align: top;\n",
              "    }\n",
              "\n",
              "    .dataframe thead tr th {\n",
              "        text-align: left;\n",
              "    }\n",
              "\n",
              "    .dataframe thead tr:last-of-type th {\n",
              "        text-align: right;\n",
              "    }\n",
              "</style>\n",
              "<table border=\"1\" class=\"dataframe\">\n",
              "  <thead>\n",
              "    <tr>\n",
              "      <th>Price</th>\n",
              "      <th colspan=\"10\" halign=\"left\">Close</th>\n",
              "      <th>...</th>\n",
              "      <th colspan=\"10\" halign=\"left\">Volume</th>\n",
              "    </tr>\n",
              "    <tr>\n",
              "      <th>Ticker</th>\n",
              "      <th>AAPL</th>\n",
              "      <th>AMZN</th>\n",
              "      <th>BRK-B</th>\n",
              "      <th>GOOGL</th>\n",
              "      <th>JPM</th>\n",
              "      <th>META</th>\n",
              "      <th>MSFT</th>\n",
              "      <th>NFLX</th>\n",
              "      <th>NVDA</th>\n",
              "      <th>TSLA</th>\n",
              "      <th>...</th>\n",
              "      <th>AAPL</th>\n",
              "      <th>AMZN</th>\n",
              "      <th>BRK-B</th>\n",
              "      <th>GOOGL</th>\n",
              "      <th>JPM</th>\n",
              "      <th>META</th>\n",
              "      <th>MSFT</th>\n",
              "      <th>NFLX</th>\n",
              "      <th>NVDA</th>\n",
              "      <th>TSLA</th>\n",
              "    </tr>\n",
              "    <tr>\n",
              "      <th>Date</th>\n",
              "      <th></th>\n",
              "      <th></th>\n",
              "      <th></th>\n",
              "      <th></th>\n",
              "      <th></th>\n",
              "      <th></th>\n",
              "      <th></th>\n",
              "      <th></th>\n",
              "      <th></th>\n",
              "      <th></th>\n",
              "      <th></th>\n",
              "      <th></th>\n",
              "      <th></th>\n",
              "      <th></th>\n",
              "      <th></th>\n",
              "      <th></th>\n",
              "      <th></th>\n",
              "      <th></th>\n",
              "      <th></th>\n",
              "      <th></th>\n",
              "      <th></th>\n",
              "    </tr>\n",
              "  </thead>\n",
              "  <tbody>\n",
              "    <tr>\n",
              "      <th>2023-03-02</th>\n",
              "      <td>0.004121</td>\n",
              "      <td>-0.000434</td>\n",
              "      <td>0.010223</td>\n",
              "      <td>0.017987</td>\n",
              "      <td>-0.010437</td>\n",
              "      <td>0.006380</td>\n",
              "      <td>0.019463</td>\n",
              "      <td>-0.005117</td>\n",
              "      <td>0.026777</td>\n",
              "      <td>-0.060323</td>\n",
              "      <td>...</td>\n",
              "      <td>-0.060192</td>\n",
              "      <td>0.059566</td>\n",
              "      <td>-0.074883</td>\n",
              "      <td>0.034535</td>\n",
              "      <td>0.441957</td>\n",
              "      <td>-0.580228</td>\n",
              "      <td>-0.105383</td>\n",
              "      <td>-0.000061</td>\n",
              "      <td>-0.166637</td>\n",
              "      <td>0.145952</td>\n",
              "    </tr>\n",
              "    <tr>\n",
              "      <th>2023-03-03</th>\n",
              "      <td>0.034488</td>\n",
              "      <td>0.029623</td>\n",
              "      <td>0.015157</td>\n",
              "      <td>0.017776</td>\n",
              "      <td>0.018193</td>\n",
              "      <td>0.059610</td>\n",
              "      <td>0.016509</td>\n",
              "      <td>0.010525</td>\n",
              "      <td>0.024406</td>\n",
              "      <td>0.035456</td>\n",
              "      <td>...</td>\n",
              "      <td>0.303090</td>\n",
              "      <td>0.004497</td>\n",
              "      <td>0.354452</td>\n",
              "      <td>0.087809</td>\n",
              "      <td>-0.154888</td>\n",
              "      <td>0.972271</td>\n",
              "      <td>0.215044</td>\n",
              "      <td>0.192468</td>\n",
              "      <td>0.057331</td>\n",
              "      <td>-0.163053</td>\n",
              "    </tr>\n",
              "    <tr>\n",
              "      <th>2023-03-06</th>\n",
              "      <td>0.018370</td>\n",
              "      <td>-0.012192</td>\n",
              "      <td>0.014363</td>\n",
              "      <td>0.015680</td>\n",
              "      <td>-0.005864</td>\n",
              "      <td>-0.001891</td>\n",
              "      <td>0.006170</td>\n",
              "      <td>-0.010045</td>\n",
              "      <td>-0.014164</td>\n",
              "      <td>-0.020328</td>\n",
              "      <td>...</td>\n",
              "      <td>0.213399</td>\n",
              "      <td>-0.067647</td>\n",
              "      <td>0.084631</td>\n",
              "      <td>-0.074395</td>\n",
              "      <td>-0.026825</td>\n",
              "      <td>-0.323146</td>\n",
              "      <td>-0.243600</td>\n",
              "      <td>-0.050398</td>\n",
              "      <td>0.058938</td>\n",
              "      <td>-0.185395</td>\n",
              "    </tr>\n",
              "    <tr>\n",
              "      <th>2023-03-07</th>\n",
              "      <td>-0.014603</td>\n",
              "      <td>-0.002136</td>\n",
              "      <td>-0.018628</td>\n",
              "      <td>-0.013440</td>\n",
              "      <td>-0.029849</td>\n",
              "      <td>-0.002111</td>\n",
              "      <td>-0.010646</td>\n",
              "      <td>-0.011475</td>\n",
              "      <td>-0.011187</td>\n",
              "      <td>-0.031980</td>\n",
              "      <td>...</td>\n",
              "      <td>-0.443705</td>\n",
              "      <td>-0.059530</td>\n",
              "      <td>-0.303527</td>\n",
              "      <td>-0.159205</td>\n",
              "      <td>0.237805</td>\n",
              "      <td>0.099985</td>\n",
              "      <td>-0.115813</td>\n",
              "      <td>-0.217739</td>\n",
              "      <td>0.163551</td>\n",
              "      <td>0.145250</td>\n",
              "    </tr>\n",
              "    <tr>\n",
              "      <th>2023-03-08</th>\n",
              "      <td>0.008342</td>\n",
              "      <td>0.003947</td>\n",
              "      <td>0.000803</td>\n",
              "      <td>0.004146</td>\n",
              "      <td>-0.005933</td>\n",
              "      <td>0.002490</td>\n",
              "      <td>-0.001772</td>\n",
              "      <td>0.010705</td>\n",
              "      <td>0.037629</td>\n",
              "      <td>-0.030892</td>\n",
              "      <td>...</td>\n",
              "      <td>-0.174101</td>\n",
              "      <td>-0.089456</td>\n",
              "      <td>-0.289780</td>\n",
              "      <td>0.203082</td>\n",
              "      <td>-0.160814</td>\n",
              "      <td>-0.635876</td>\n",
              "      <td>-0.213778</td>\n",
              "      <td>-0.268920</td>\n",
              "      <td>-0.003074</td>\n",
              "      <td>0.025146</td>\n",
              "    </tr>\n",
              "  </tbody>\n",
              "</table>\n",
              "<p>5 rows × 50 columns</p>\n",
              "</div>\n",
              "    <div class=\"colab-df-buttons\">\n",
              "\n",
              "  <div class=\"colab-df-container\">\n",
              "    <button class=\"colab-df-convert\" onclick=\"convertToInteractive('df-8ed8acdf-d7c0-4336-90bf-225b180ca74c')\"\n",
              "            title=\"Convert this dataframe to an interactive table.\"\n",
              "            style=\"display:none;\">\n",
              "\n",
              "  <svg xmlns=\"http://www.w3.org/2000/svg\" height=\"24px\" viewBox=\"0 -960 960 960\">\n",
              "    <path d=\"M120-120v-720h720v720H120Zm60-500h600v-160H180v160Zm220 220h160v-160H400v160Zm0 220h160v-160H400v160ZM180-400h160v-160H180v160Zm440 0h160v-160H620v160ZM180-180h160v-160H180v160Zm440 0h160v-160H620v160Z\"/>\n",
              "  </svg>\n",
              "    </button>\n",
              "\n",
              "  <style>\n",
              "    .colab-df-container {\n",
              "      display:flex;\n",
              "      gap: 12px;\n",
              "    }\n",
              "\n",
              "    .colab-df-convert {\n",
              "      background-color: #E8F0FE;\n",
              "      border: none;\n",
              "      border-radius: 50%;\n",
              "      cursor: pointer;\n",
              "      display: none;\n",
              "      fill: #1967D2;\n",
              "      height: 32px;\n",
              "      padding: 0 0 0 0;\n",
              "      width: 32px;\n",
              "    }\n",
              "\n",
              "    .colab-df-convert:hover {\n",
              "      background-color: #E2EBFA;\n",
              "      box-shadow: 0px 1px 2px rgba(60, 64, 67, 0.3), 0px 1px 3px 1px rgba(60, 64, 67, 0.15);\n",
              "      fill: #174EA6;\n",
              "    }\n",
              "\n",
              "    .colab-df-buttons div {\n",
              "      margin-bottom: 4px;\n",
              "    }\n",
              "\n",
              "    [theme=dark] .colab-df-convert {\n",
              "      background-color: #3B4455;\n",
              "      fill: #D2E3FC;\n",
              "    }\n",
              "\n",
              "    [theme=dark] .colab-df-convert:hover {\n",
              "      background-color: #434B5C;\n",
              "      box-shadow: 0px 1px 3px 1px rgba(0, 0, 0, 0.15);\n",
              "      filter: drop-shadow(0px 1px 2px rgba(0, 0, 0, 0.3));\n",
              "      fill: #FFFFFF;\n",
              "    }\n",
              "  </style>\n",
              "\n",
              "    <script>\n",
              "      const buttonEl =\n",
              "        document.querySelector('#df-8ed8acdf-d7c0-4336-90bf-225b180ca74c button.colab-df-convert');\n",
              "      buttonEl.style.display =\n",
              "        google.colab.kernel.accessAllowed ? 'block' : 'none';\n",
              "\n",
              "      async function convertToInteractive(key) {\n",
              "        const element = document.querySelector('#df-8ed8acdf-d7c0-4336-90bf-225b180ca74c');\n",
              "        const dataTable =\n",
              "          await google.colab.kernel.invokeFunction('convertToInteractive',\n",
              "                                                    [key], {});\n",
              "        if (!dataTable) return;\n",
              "\n",
              "        const docLinkHtml = 'Like what you see? Visit the ' +\n",
              "          '<a target=\"_blank\" href=https://colab.research.google.com/notebooks/data_table.ipynb>data table notebook</a>'\n",
              "          + ' to learn more about interactive tables.';\n",
              "        element.innerHTML = '';\n",
              "        dataTable['output_type'] = 'display_data';\n",
              "        await google.colab.output.renderOutput(dataTable, element);\n",
              "        const docLink = document.createElement('div');\n",
              "        docLink.innerHTML = docLinkHtml;\n",
              "        element.appendChild(docLink);\n",
              "      }\n",
              "    </script>\n",
              "  </div>\n",
              "\n",
              "\n",
              "<div id=\"df-9b4719a9-fd68-4342-9240-41599c431338\">\n",
              "  <button class=\"colab-df-quickchart\" onclick=\"quickchart('df-9b4719a9-fd68-4342-9240-41599c431338')\"\n",
              "            title=\"Suggest charts\"\n",
              "            style=\"display:none;\">\n",
              "\n",
              "<svg xmlns=\"http://www.w3.org/2000/svg\" height=\"24px\"viewBox=\"0 0 24 24\"\n",
              "     width=\"24px\">\n",
              "    <g>\n",
              "        <path d=\"M19 3H5c-1.1 0-2 .9-2 2v14c0 1.1.9 2 2 2h14c1.1 0 2-.9 2-2V5c0-1.1-.9-2-2-2zM9 17H7v-7h2v7zm4 0h-2V7h2v10zm4 0h-2v-4h2v4z\"/>\n",
              "    </g>\n",
              "</svg>\n",
              "  </button>\n",
              "\n",
              "<style>\n",
              "  .colab-df-quickchart {\n",
              "      --bg-color: #E8F0FE;\n",
              "      --fill-color: #1967D2;\n",
              "      --hover-bg-color: #E2EBFA;\n",
              "      --hover-fill-color: #174EA6;\n",
              "      --disabled-fill-color: #AAA;\n",
              "      --disabled-bg-color: #DDD;\n",
              "  }\n",
              "\n",
              "  [theme=dark] .colab-df-quickchart {\n",
              "      --bg-color: #3B4455;\n",
              "      --fill-color: #D2E3FC;\n",
              "      --hover-bg-color: #434B5C;\n",
              "      --hover-fill-color: #FFFFFF;\n",
              "      --disabled-bg-color: #3B4455;\n",
              "      --disabled-fill-color: #666;\n",
              "  }\n",
              "\n",
              "  .colab-df-quickchart {\n",
              "    background-color: var(--bg-color);\n",
              "    border: none;\n",
              "    border-radius: 50%;\n",
              "    cursor: pointer;\n",
              "    display: none;\n",
              "    fill: var(--fill-color);\n",
              "    height: 32px;\n",
              "    padding: 0;\n",
              "    width: 32px;\n",
              "  }\n",
              "\n",
              "  .colab-df-quickchart:hover {\n",
              "    background-color: var(--hover-bg-color);\n",
              "    box-shadow: 0 1px 2px rgba(60, 64, 67, 0.3), 0 1px 3px 1px rgba(60, 64, 67, 0.15);\n",
              "    fill: var(--button-hover-fill-color);\n",
              "  }\n",
              "\n",
              "  .colab-df-quickchart-complete:disabled,\n",
              "  .colab-df-quickchart-complete:disabled:hover {\n",
              "    background-color: var(--disabled-bg-color);\n",
              "    fill: var(--disabled-fill-color);\n",
              "    box-shadow: none;\n",
              "  }\n",
              "\n",
              "  .colab-df-spinner {\n",
              "    border: 2px solid var(--fill-color);\n",
              "    border-color: transparent;\n",
              "    border-bottom-color: var(--fill-color);\n",
              "    animation:\n",
              "      spin 1s steps(1) infinite;\n",
              "  }\n",
              "\n",
              "  @keyframes spin {\n",
              "    0% {\n",
              "      border-color: transparent;\n",
              "      border-bottom-color: var(--fill-color);\n",
              "      border-left-color: var(--fill-color);\n",
              "    }\n",
              "    20% {\n",
              "      border-color: transparent;\n",
              "      border-left-color: var(--fill-color);\n",
              "      border-top-color: var(--fill-color);\n",
              "    }\n",
              "    30% {\n",
              "      border-color: transparent;\n",
              "      border-left-color: var(--fill-color);\n",
              "      border-top-color: var(--fill-color);\n",
              "      border-right-color: var(--fill-color);\n",
              "    }\n",
              "    40% {\n",
              "      border-color: transparent;\n",
              "      border-right-color: var(--fill-color);\n",
              "      border-top-color: var(--fill-color);\n",
              "    }\n",
              "    60% {\n",
              "      border-color: transparent;\n",
              "      border-right-color: var(--fill-color);\n",
              "    }\n",
              "    80% {\n",
              "      border-color: transparent;\n",
              "      border-right-color: var(--fill-color);\n",
              "      border-bottom-color: var(--fill-color);\n",
              "    }\n",
              "    90% {\n",
              "      border-color: transparent;\n",
              "      border-bottom-color: var(--fill-color);\n",
              "    }\n",
              "  }\n",
              "</style>\n",
              "\n",
              "  <script>\n",
              "    async function quickchart(key) {\n",
              "      const quickchartButtonEl =\n",
              "        document.querySelector('#' + key + ' button');\n",
              "      quickchartButtonEl.disabled = true;  // To prevent multiple clicks.\n",
              "      quickchartButtonEl.classList.add('colab-df-spinner');\n",
              "      try {\n",
              "        const charts = await google.colab.kernel.invokeFunction(\n",
              "            'suggestCharts', [key], {});\n",
              "      } catch (error) {\n",
              "        console.error('Error during call to suggestCharts:', error);\n",
              "      }\n",
              "      quickchartButtonEl.classList.remove('colab-df-spinner');\n",
              "      quickchartButtonEl.classList.add('colab-df-quickchart-complete');\n",
              "    }\n",
              "    (() => {\n",
              "      let quickchartButtonEl =\n",
              "        document.querySelector('#df-9b4719a9-fd68-4342-9240-41599c431338 button');\n",
              "      quickchartButtonEl.style.display =\n",
              "        google.colab.kernel.accessAllowed ? 'block' : 'none';\n",
              "    })();\n",
              "  </script>\n",
              "</div>\n",
              "\n",
              "    </div>\n",
              "  </div>\n"
            ],
            "application/vnd.google.colaboratory.intrinsic+json": {
              "type": "dataframe",
              "variable_name": "returns"
            }
          },
          "metadata": {},
          "execution_count": 34
        }
      ]
    },
    {
      "cell_type": "code",
      "source": [
        "# Compute the variance-covariance matrix\n",
        "cov_matrix = returns.cov()\n",
        "print(\"Variance-Covariance Matrix:\\n\", cov_matrix)\n"
      ],
      "metadata": {
        "colab": {
          "base_uri": "https://localhost:8080/"
        },
        "id": "KJ-0uqYyEh6E",
        "outputId": "3a16ac26-3534-4d45-803a-c81b1b6e1ab5"
      },
      "execution_count": 35,
      "outputs": [
        {
          "output_type": "stream",
          "name": "stdout",
          "text": [
            "Variance-Covariance Matrix:\n",
            " Price             Close                                                  \\\n",
            "Ticker             AAPL      AMZN         BRK-B         GOOGL       JPM   \n",
            "Price  Ticker                                                             \n",
            "Close  AAPL    0.000145  0.000094  3.319404e-05  1.049022e-04  0.000035   \n",
            "       AMZN    0.000094  0.000364  3.228609e-05  1.869760e-04  0.000027   \n",
            "       BRK-B   0.000033  0.000032  7.204366e-05  4.340810e-05  0.000067   \n",
            "       GOOGL   0.000105  0.000187  4.340810e-05  3.097493e-04  0.000034   \n",
            "       JPM     0.000035  0.000027  6.683722e-05  3.369090e-05  0.000160   \n",
            "       META    0.000121  0.000268  6.396066e-05  1.984629e-04  0.000064   \n",
            "       MSFT    0.000090  0.000151  2.309837e-05  1.188564e-04  0.000011   \n",
            "       NFLX    0.000107  0.000153  4.281374e-05  1.252659e-04  0.000036   \n",
            "       NVDA    0.000143  0.000225  5.220823e-05  2.079713e-04  0.000081   \n",
            "       TSLA    0.000135  0.000201  5.845360e-05  1.434735e-04  0.000116   \n",
            "High   AAPL    0.000102  0.000046  1.935963e-05  6.315009e-05  0.000024   \n",
            "       AMZN    0.000044  0.000248  1.258442e-05  1.044627e-04  0.000012   \n",
            "       BRK-B   0.000007  0.000013  4.017579e-05  7.629756e-06  0.000038   \n",
            "       GOOGL   0.000057  0.000107  2.082065e-05  2.181959e-04  0.000024   \n",
            "       JPM     0.000008 -0.000002  3.991996e-05 -9.708642e-07  0.000110   \n",
            "       META    0.000070  0.000194  3.964461e-05  1.345413e-04  0.000037   \n",
            "       MSFT    0.000037  0.000060  3.484619e-07  4.145682e-05 -0.000006   \n",
            "       NFLX    0.000049  0.000056  2.383762e-05  6.006781e-05  0.000015   \n",
            "       NVDA    0.000065  0.000082  1.995121e-05  1.092640e-04  0.000036   \n",
            "       TSLA    0.000063  0.000067  1.712319e-05  4.609938e-05  0.000072   \n",
            "Low    AAPL    0.000113  0.000036  1.960180e-05  6.836939e-05  0.000025   \n",
            "       AMZN    0.000051  0.000253  2.116689e-05  1.238899e-04  0.000030   \n",
            "       BRK-B   0.000018  0.000013  5.001161e-05  2.240157e-05  0.000054   \n",
            "       GOOGL   0.000072  0.000096  2.730835e-05  2.244575e-04  0.000028   \n",
            "       JPM     0.000019  0.000014  4.754844e-05  1.836831e-05  0.000117   \n",
            "       META    0.000085  0.000190  3.685584e-05  1.406602e-04  0.000028   \n",
            "       MSFT    0.000053  0.000088  5.798196e-06  6.369383e-05  0.000003   \n",
            "       NFLX    0.000062  0.000076  2.357951e-05  6.464443e-05  0.000021   \n",
            "       NVDA    0.000087  0.000134  1.776306e-05  1.348891e-04  0.000032   \n",
            "       TSLA    0.000065  0.000076  2.748004e-05  5.138663e-05  0.000086   \n",
            "Open   AAPL    0.000068 -0.000010  1.021004e-05  3.299437e-05  0.000023   \n",
            "       AMZN    0.000012  0.000130  1.571825e-05  4.849470e-05  0.000034   \n",
            "       BRK-B   0.000002  0.000008  1.300703e-05 -1.146456e-06  0.000021   \n",
            "       GOOGL   0.000025  0.000027  7.539552e-06  1.278752e-04  0.000018   \n",
            "       JPM     0.000010  0.000008  1.910063e-05  2.447714e-06  0.000050   \n",
            "       META    0.000034  0.000102  2.482472e-05  7.515862e-05  0.000022   \n",
            "       MSFT    0.000007  0.000014 -6.808358e-06  5.388880e-06  0.000009   \n",
            "       NFLX    0.000011  0.000024  1.552781e-05  1.532699e-05  0.000023   \n",
            "       NVDA    0.000027  0.000009 -5.423005e-06  5.535489e-05  0.000014   \n",
            "       TSLA    0.000003 -0.000020 -7.539880e-06 -5.232799e-06  0.000040   \n",
            "Volume AAPL   -0.000182  0.000392 -1.958265e-04 -1.500934e-04 -0.000054   \n",
            "       AMZN   -0.000154  0.000715 -3.223421e-04 -5.523938e-05 -0.000378   \n",
            "       BRK-B  -0.000274 -0.000306 -4.146561e-04 -4.334474e-04 -0.000272   \n",
            "       GOOGL  -0.000367  0.000006 -4.239344e-04 -4.011188e-04 -0.000117   \n",
            "       JPM    -0.000668 -0.000868 -4.723832e-04 -5.676736e-04 -0.000063   \n",
            "       META   -0.000016  0.000472  1.527242e-05  2.099122e-04  0.000093   \n",
            "       MSFT   -0.000349 -0.000653 -5.360303e-04 -6.625404e-04 -0.000456   \n",
            "       NFLX    0.000291  0.000317 -6.585901e-05  3.125966e-04 -0.000184   \n",
            "       NVDA   -0.000426 -0.000767 -2.642126e-04 -2.590073e-04 -0.000171   \n",
            "       TSLA   -0.000059 -0.000142 -1.178470e-04 -2.014009e-04 -0.000049   \n",
            "\n",
            "Price                                                                    ...  \\\n",
            "Ticker                 META          MSFT      NFLX      NVDA      TSLA  ...   \n",
            "Price  Ticker                                                            ...   \n",
            "Close  AAPL    1.207988e-04  9.026936e-05  0.000107  0.000143  0.000135  ...   \n",
            "       AMZN    2.682318e-04  1.505940e-04  0.000153  0.000225  0.000201  ...   \n",
            "       BRK-B   6.396066e-05  2.309837e-05  0.000043  0.000052  0.000058  ...   \n",
            "       GOOGL   1.984629e-04  1.188564e-04  0.000125  0.000208  0.000143  ...   \n",
            "       JPM     6.353768e-05  1.104102e-05  0.000036  0.000081  0.000116  ...   \n",
            "       META    5.127689e-04  1.685573e-04  0.000168  0.000291  0.000242  ...   \n",
            "       MSFT    1.685573e-04  2.021235e-04  0.000129  0.000213  0.000121  ...   \n",
            "       NFLX    1.677538e-04  1.287338e-04  0.000522  0.000190  0.000154  ...   \n",
            "       NVDA    2.913349e-04  2.132647e-04  0.000190  0.000791  0.000253  ...   \n",
            "       TSLA    2.420614e-04  1.209417e-04  0.000154  0.000253  0.000935  ...   \n",
            "High   AAPL    7.098691e-05  5.078935e-05  0.000061  0.000100  0.000069  ...   \n",
            "       AMZN    1.807157e-04  8.253792e-05  0.000077  0.000136  0.000110  ...   \n",
            "       BRK-B   3.054660e-05  6.210331e-06  0.000008  0.000032  0.000029  ...   \n",
            "       GOOGL   1.106688e-04  5.252625e-05  0.000045  0.000153  0.000058  ...   \n",
            "       JPM     2.066043e-05 -1.240373e-05 -0.000011  0.000036  0.000056  ...   \n",
            "       META    4.007870e-04  1.135200e-04  0.000075  0.000221  0.000132  ...   \n",
            "       MSFT    7.629833e-05  1.261725e-04  0.000061  0.000134  0.000040  ...   \n",
            "       NFLX    8.068961e-05  6.317564e-05  0.000404  0.000135  0.000066  ...   \n",
            "       NVDA    1.476081e-04  1.273929e-04  0.000073  0.000609  0.000097  ...   \n",
            "       TSLA    9.449791e-05  4.179820e-05  0.000033  0.000150  0.000584  ...   \n",
            "Low    AAPL    4.377800e-05  5.272315e-05  0.000063  0.000098  0.000087  ...   \n",
            "       AMZN    1.836016e-04  8.861577e-05  0.000085  0.000158  0.000140  ...   \n",
            "       BRK-B   3.984807e-05  3.372796e-06  0.000021  0.000035  0.000042  ...   \n",
            "       GOOGL   9.288059e-05  5.110046e-05  0.000076  0.000152  0.000094  ...   \n",
            "       JPM     3.770701e-05 -3.250627e-06  0.000015  0.000060  0.000076  ...   \n",
            "       META    3.533992e-04  1.099224e-04  0.000089  0.000221  0.000156  ...   \n",
            "       MSFT    8.802472e-05  1.237128e-04  0.000076  0.000149  0.000080  ...   \n",
            "       NFLX    9.365349e-05  7.276589e-05  0.000374  0.000109  0.000099  ...   \n",
            "       NVDA    1.708466e-04  1.456482e-04  0.000109  0.000582  0.000178  ...   \n",
            "       TSLA    1.080412e-04  4.227323e-05  0.000048  0.000160  0.000680  ...   \n",
            "Open   AAPL    7.351554e-07  9.905577e-06  0.000022  0.000060  0.000031  ...   \n",
            "       AMZN    1.150199e-04  2.814279e-05  0.000040  0.000107  0.000066  ...   \n",
            "       BRK-B   6.060750e-06 -3.957985e-07 -0.000008  0.000021  0.000026  ...   \n",
            "       GOOGL   2.708723e-05 -6.457405e-06  0.000015  0.000092  0.000046  ...   \n",
            "       JPM     7.948759e-07  1.690265e-06 -0.000019  0.000039  0.000045  ...   \n",
            "       META    2.317049e-04  4.500256e-05  0.000026  0.000146  0.000062  ...   \n",
            "       MSFT    1.278226e-05  5.042017e-05  0.000022  0.000087  0.000021  ...   \n",
            "       NFLX    3.688614e-05  2.047104e-05  0.000237  0.000064  0.000042  ...   \n",
            "       NVDA    4.994602e-05  5.782790e-05  0.000014  0.000394  0.000037  ...   \n",
            "       TSLA   -1.545104e-06 -8.097764e-07 -0.000038  0.000113  0.000341  ...   \n",
            "Volume AAPL    3.663889e-04  2.456490e-04  0.000119  0.000083  0.000005  ...   \n",
            "       AMZN    4.556355e-04  3.163764e-04  0.000061 -0.000302  0.000442  ...   \n",
            "       BRK-B  -3.733658e-04  5.019441e-05 -0.000192  0.000112  0.000143  ...   \n",
            "       GOOGL  -3.441654e-06  6.494921e-05 -0.000314 -0.000179 -0.000241  ...   \n",
            "       JPM    -1.034018e-03 -4.542413e-04 -0.000970 -0.000759 -0.000654  ...   \n",
            "       META    1.718534e-03  6.093765e-04 -0.000245  0.000248 -0.000157  ...   \n",
            "       MSFT   -8.650302e-04  4.378870e-04 -0.000352 -0.000094 -0.000372  ...   \n",
            "       NFLX    8.084248e-04  3.415253e-04  0.002197  0.000869  0.000520  ...   \n",
            "       NVDA   -6.290295e-04 -3.288135e-04 -0.000712  0.000500 -0.001810  ...   \n",
            "       TSLA   -2.603522e-04 -1.639752e-04  0.000084 -0.000561 -0.000632  ...   \n",
            "\n",
            "Price            Volume                                                    \\\n",
            "Ticker             AAPL      AMZN     BRK-B     GOOGL       JPM      META   \n",
            "Price  Ticker                                                               \n",
            "Close  AAPL   -0.000182 -0.000154 -0.000274 -0.000367 -0.000668 -0.000016   \n",
            "       AMZN    0.000392  0.000715 -0.000306  0.000006 -0.000868  0.000472   \n",
            "       BRK-B  -0.000196 -0.000322 -0.000415 -0.000424 -0.000472  0.000015   \n",
            "       GOOGL  -0.000150 -0.000055 -0.000433 -0.000401 -0.000568  0.000210   \n",
            "       JPM    -0.000054 -0.000378 -0.000272 -0.000117 -0.000063  0.000093   \n",
            "       META    0.000366  0.000456 -0.000373 -0.000003 -0.001034  0.001719   \n",
            "       MSFT    0.000246  0.000316  0.000050  0.000065 -0.000454  0.000609   \n",
            "       NFLX    0.000119  0.000061 -0.000192 -0.000314 -0.000970 -0.000245   \n",
            "       NVDA    0.000083 -0.000302  0.000112 -0.000179 -0.000759  0.000248   \n",
            "       TSLA    0.000005  0.000442  0.000143 -0.000241 -0.000654 -0.000157   \n",
            "High   AAPL    0.000427  0.000009  0.000005 -0.000080 -0.000296  0.000113   \n",
            "       AMZN    0.000571  0.001047  0.000254  0.000299 -0.000100  0.000332   \n",
            "       BRK-B  -0.000163 -0.000110  0.000463  0.000063  0.000108 -0.000025   \n",
            "       GOOGL   0.000130  0.000044  0.000131  0.000603  0.000044  0.000248   \n",
            "       JPM    -0.000272 -0.000266 -0.000031 -0.000162  0.001033 -0.000157   \n",
            "       META    0.000822  0.000959  0.000469  0.000624 -0.000043  0.002475   \n",
            "       MSFT    0.000683  0.000659  0.000793  0.000686  0.000279  0.000757   \n",
            "       NFLX    0.000304  0.000295  0.000196  0.000114 -0.000363  0.000014   \n",
            "       NVDA    0.000350  0.000220  0.001185  0.000400  0.000433  0.000262   \n",
            "       TSLA   -0.000085 -0.000312  0.000473 -0.000247 -0.000362 -0.000627   \n",
            "Low    AAPL   -0.000623 -0.000365 -0.000116 -0.000427 -0.000288 -0.000594   \n",
            "       AMZN   -0.000038 -0.000052  0.000127 -0.000105 -0.000152 -0.000014   \n",
            "       BRK-B  -0.000125 -0.000149 -0.000214 -0.000166 -0.000228  0.000090   \n",
            "       GOOGL  -0.000256 -0.000587 -0.000256 -0.000887  0.000183 -0.000264   \n",
            "       JPM    -0.000209 -0.000230  0.000014  0.000096 -0.000359 -0.000065   \n",
            "       META   -0.000008  0.000078  0.000227 -0.000331 -0.000413  0.000198   \n",
            "       MSFT    0.000059 -0.000174  0.000450 -0.000246  0.000073  0.000122   \n",
            "       NFLX   -0.000015 -0.000320  0.000085 -0.000048 -0.000383 -0.000374   \n",
            "       NVDA   -0.000027 -0.000262  0.001039 -0.000110  0.000309 -0.000153   \n",
            "       TSLA   -0.000010  0.000083  0.000515 -0.000101 -0.000190 -0.000361   \n",
            "Open   AAPL   -0.000357 -0.000422  0.000251 -0.000409 -0.000004 -0.000432   \n",
            "       AMZN   -0.000059 -0.000035  0.000545  0.000053  0.000413  0.000011   \n",
            "       BRK-B  -0.000136  0.000021  0.000522  0.000167  0.000088 -0.000041   \n",
            "       GOOGL  -0.000356 -0.000466  0.000251 -0.000093  0.000582 -0.000301   \n",
            "       JPM    -0.000370 -0.000053  0.000227  0.000061  0.000395 -0.000258   \n",
            "       META    0.000504  0.000518  0.001078  0.000101  0.000254  0.001243   \n",
            "       MSFT    0.000241 -0.000131  0.000848  0.000120  0.000538  0.000224   \n",
            "       NFLX   -0.000083 -0.000319  0.000278  0.000033  0.000087  0.000019   \n",
            "       NVDA    0.000046 -0.000027  0.001822  0.000167  0.001097  0.000146   \n",
            "       TSLA    0.000361 -0.000557  0.001225 -0.000240  0.000177 -0.000120   \n",
            "Volume AAPL    0.074838  0.041843  0.041304  0.033527  0.025338  0.047204   \n",
            "       AMZN    0.041843  0.082594  0.033352  0.043238  0.021441  0.051547   \n",
            "       BRK-B   0.041304  0.033352  0.089369  0.038713  0.040292  0.035024   \n",
            "       GOOGL   0.033527  0.043238  0.038713  0.091634  0.016249  0.047869   \n",
            "       JPM     0.025338  0.021441  0.040292  0.016249  0.094860  0.017607   \n",
            "       META    0.047204  0.051547  0.035024  0.047869  0.017607  0.121571   \n",
            "       MSFT    0.043477  0.048990  0.046406  0.061180  0.032358  0.050291   \n",
            "       NFLX    0.032946  0.042085  0.028616  0.025450  0.011281  0.038187   \n",
            "       NVDA    0.022371  0.020618  0.023263  0.018221  0.015157  0.023645   \n",
            "       TSLA    0.006514  0.005066  0.011957  0.008496  0.006633  0.008131   \n",
            "\n",
            "Price                                                  \n",
            "Ticker             MSFT      NFLX      NVDA      TSLA  \n",
            "Price  Ticker                                          \n",
            "Close  AAPL   -0.000349  0.000291 -0.000426 -0.000059  \n",
            "       AMZN   -0.000653  0.000317 -0.000767 -0.000142  \n",
            "       BRK-B  -0.000536 -0.000066 -0.000264 -0.000118  \n",
            "       GOOGL  -0.000663  0.000313 -0.000259 -0.000201  \n",
            "       JPM    -0.000456 -0.000184 -0.000171 -0.000049  \n",
            "       META   -0.000865  0.000808 -0.000629 -0.000260  \n",
            "       MSFT    0.000438  0.000342 -0.000329 -0.000164  \n",
            "       NFLX   -0.000352  0.002197 -0.000712  0.000084  \n",
            "       NVDA   -0.000094  0.000869  0.000500 -0.000561  \n",
            "       TSLA   -0.000372  0.000520 -0.001810 -0.000632  \n",
            "High   AAPL   -0.000031  0.000778  0.000100  0.000083  \n",
            "       AMZN   -0.000127  0.001020  0.000031  0.000157  \n",
            "       BRK-B  -0.000112  0.000055 -0.000053  0.000086  \n",
            "       GOOGL  -0.000139  0.000586  0.000416  0.000091  \n",
            "       JPM    -0.000243 -0.000167 -0.000016  0.000122  \n",
            "       META    0.000001  0.001261  0.000359  0.000099  \n",
            "       MSFT    0.001470  0.001015  0.000459  0.000101  \n",
            "       NFLX    0.000206  0.004000  0.000419  0.000059  \n",
            "       NVDA    0.001148  0.001531  0.002837 -0.000228  \n",
            "       TSLA   -0.000255  0.000486 -0.000660  0.000919  \n",
            "Low    AAPL   -0.000273  0.000309 -0.000159 -0.000060  \n",
            "       AMZN   -0.000577  0.000252 -0.000229 -0.000072  \n",
            "       BRK-B  -0.000301 -0.000172  0.000039 -0.000057  \n",
            "       GOOGL  -0.000624  0.000185  0.000043 -0.000241  \n",
            "       JPM    -0.000333  0.000101  0.000130  0.000041  \n",
            "       META   -0.000755  0.000413 -0.000101 -0.000199  \n",
            "       MSFT   -0.000166  0.000107 -0.000078  0.000036  \n",
            "       NFLX   -0.000365  0.000585 -0.000269 -0.000026  \n",
            "       NVDA    0.000249  0.000770  0.000092 -0.000364  \n",
            "       TSLA    0.000113  0.001702 -0.000797 -0.001208  \n",
            "Open   AAPL   -0.000227  0.000405  0.000231  0.000053  \n",
            "       AMZN   -0.000314  0.000644  0.000545  0.000086  \n",
            "       BRK-B   0.000122 -0.000112  0.000234  0.000087  \n",
            "       GOOGL  -0.000210  0.000290  0.000522 -0.000203  \n",
            "       JPM    -0.000024 -0.000080  0.000203  0.000117  \n",
            "       META   -0.000067  0.000717  0.001071  0.000178  \n",
            "       MSFT    0.000306  0.000339  0.000562  0.000109  \n",
            "       NFLX   -0.000240  0.001085  0.000277 -0.000001  \n",
            "       NVDA    0.001071  0.000811  0.002225 -0.000035  \n",
            "       TSLA    0.000194  0.001692  0.001097  0.000070  \n",
            "Volume AAPL    0.043477  0.032946  0.022371  0.006514  \n",
            "       AMZN    0.048990  0.042085  0.020618  0.005066  \n",
            "       BRK-B   0.046406  0.028616  0.023263  0.011957  \n",
            "       GOOGL   0.061180  0.025450  0.018221  0.008496  \n",
            "       JPM     0.032358  0.011281  0.015157  0.006633  \n",
            "       META    0.050291  0.038187  0.023645  0.008131  \n",
            "       MSFT    0.097629  0.034670  0.029733  0.004970  \n",
            "       NFLX    0.034670  0.163125  0.025068  0.003693  \n",
            "       NVDA    0.029733  0.025068  0.081085  0.003165  \n",
            "       TSLA    0.004970  0.003693  0.003165  0.033735  \n",
            "\n",
            "[50 rows x 50 columns]\n"
          ]
        }
      ]
    },
    {
      "cell_type": "code",
      "source": [
        "import yfinance as yf\n",
        "import numpy as np\n",
        "import pandas as pd\n",
        "\n",
        "# Define stock tickers\n",
        "stocks = [\"AAPL\", \"MSFT\", \"TSLA\", \"GOOGL\", \"AMZN\", \"META\", \"NVDA\", \"JPM\", \"NFLX\", \"BRK-B\"]\n",
        "\n",
        "# Download stock price data\n",
        "data = yf.download(stocks, start=\"2023-03-01\", end=\"2024-03-01\")[\"Close\"]\n",
        "\n",
        "# Compute daily log returns\n",
        "returns = np.log(data / data.shift(1)).dropna()\n",
        "print(returns.head())\n"
      ],
      "metadata": {
        "colab": {
          "base_uri": "https://localhost:8080/"
        },
        "id": "JxRPqxeuFdP2",
        "outputId": "f8c88d95-2bcd-40eb-d581-53cc6c0c2f37"
      },
      "execution_count": 39,
      "outputs": [
        {
          "output_type": "stream",
          "name": "stderr",
          "text": [
            "[*********************100%***********************]  10 of 10 completed\n"
          ]
        },
        {
          "output_type": "stream",
          "name": "stdout",
          "text": [
            "Ticker          AAPL      AMZN     BRK-B     GOOGL       JPM      META  \\\n",
            "Date                                                                     \n",
            "2023-03-02  0.004121 -0.000434  0.010223  0.017987 -0.010437  0.006380   \n",
            "2023-03-03  0.034488  0.029623  0.015157  0.017776  0.018193  0.059610   \n",
            "2023-03-06  0.018370 -0.012192  0.014363  0.015680 -0.005864 -0.001891   \n",
            "2023-03-07 -0.014603 -0.002136 -0.018628 -0.013440 -0.029849 -0.002111   \n",
            "2023-03-08  0.008342  0.003947  0.000803  0.004146 -0.005933  0.002490   \n",
            "\n",
            "Ticker          MSFT      NFLX      NVDA      TSLA  \n",
            "Date                                                \n",
            "2023-03-02  0.019463 -0.005117  0.026777 -0.060323  \n",
            "2023-03-03  0.016509  0.010525  0.024406  0.035456  \n",
            "2023-03-06  0.006170 -0.010045 -0.014164 -0.020328  \n",
            "2023-03-07 -0.010646 -0.011475 -0.011187 -0.031980  \n",
            "2023-03-08 -0.001772  0.010705  0.037629 -0.030892  \n"
          ]
        }
      ]
    },
    {
      "cell_type": "code",
      "source": [
        "# Compute the variance-covariance matrix\n",
        "cov_matrix = returns.cov()\n",
        "print(cov_matrix)\n"
      ],
      "metadata": {
        "colab": {
          "base_uri": "https://localhost:8080/"
        },
        "id": "7jGm9DTpFdTH",
        "outputId": "954a2fa7-010a-4972-c328-5a6c7bc40865"
      },
      "execution_count": 40,
      "outputs": [
        {
          "output_type": "stream",
          "name": "stdout",
          "text": [
            "Ticker      AAPL      AMZN     BRK-B     GOOGL       JPM      META      MSFT  \\\n",
            "Ticker                                                                         \n",
            "AAPL    0.000145  0.000094  0.000033  0.000105  0.000035  0.000121  0.000090   \n",
            "AMZN    0.000094  0.000364  0.000032  0.000187  0.000027  0.000268  0.000151   \n",
            "BRK-B   0.000033  0.000032  0.000072  0.000043  0.000067  0.000064  0.000023   \n",
            "GOOGL   0.000105  0.000187  0.000043  0.000310  0.000034  0.000198  0.000119   \n",
            "JPM     0.000035  0.000027  0.000067  0.000034  0.000160  0.000064  0.000011   \n",
            "META    0.000121  0.000268  0.000064  0.000198  0.000064  0.000513  0.000169   \n",
            "MSFT    0.000090  0.000151  0.000023  0.000119  0.000011  0.000169  0.000202   \n",
            "NFLX    0.000107  0.000153  0.000043  0.000125  0.000036  0.000168  0.000129   \n",
            "NVDA    0.000143  0.000225  0.000052  0.000208  0.000081  0.000291  0.000213   \n",
            "TSLA    0.000135  0.000201  0.000058  0.000143  0.000116  0.000242  0.000121   \n",
            "\n",
            "Ticker      NFLX      NVDA      TSLA  \n",
            "Ticker                                \n",
            "AAPL    0.000107  0.000143  0.000135  \n",
            "AMZN    0.000153  0.000225  0.000201  \n",
            "BRK-B   0.000043  0.000052  0.000058  \n",
            "GOOGL   0.000125  0.000208  0.000143  \n",
            "JPM     0.000036  0.000081  0.000116  \n",
            "META    0.000168  0.000291  0.000242  \n",
            "MSFT    0.000129  0.000213  0.000121  \n",
            "NFLX    0.000522  0.000190  0.000154  \n",
            "NVDA    0.000190  0.000791  0.000253  \n",
            "TSLA    0.000154  0.000253  0.000935  \n"
          ]
        }
      ]
    },
    {
      "cell_type": "code",
      "source": [
        "# Assign equal weights\n",
        "n_assets = len(stocks)\n",
        "weights = np.array([1/n_assets] * n_assets)\n",
        "\n",
        "# Compute portfolio variance\n",
        "portfolio_variance = np.dot(weights.T, np.dot(cov_matrix, weights))\n",
        "portfolio_volatility = np.sqrt(portfolio_variance)\n",
        "\n",
        "print(f\"Portfolio Volatility: {portfolio_volatility}\")\n"
      ],
      "metadata": {
        "colab": {
          "base_uri": "https://localhost:8080/"
        },
        "id": "6U4z_QQcFdWm",
        "outputId": "18912a8f-f398-42e7-f74f-8d17239ebcc0"
      },
      "execution_count": 41,
      "outputs": [
        {
          "output_type": "stream",
          "name": "stdout",
          "text": [
            "Portfolio Volatility: 0.012270176460695817\n"
          ]
        }
      ]
    },
    {
      "cell_type": "code",
      "source": [
        "from scipy.stats import norm\n",
        "\n",
        "# Calculate portfolio standard deviation for a single day\n",
        "portfolio_std = np.sqrt(portfolio_variance)\n",
        "\n",
        "# 10-day VaR at 99% confidence\n",
        "z_score = norm.ppf(0.01)  # 1% level (left-tail)\n",
        "VaR_10d = z_score * portfolio_std * np.sqrt(10)\n",
        "\n",
        "print(f\"10-Day VaR (99% confidence): {VaR_10d}\")\n"
      ],
      "metadata": {
        "colab": {
          "base_uri": "https://localhost:8080/"
        },
        "id": "DJmO-pB0FdZ9",
        "outputId": "7f34548e-cec9-49c4-c009-a50877201f53"
      },
      "execution_count": 42,
      "outputs": [
        {
          "output_type": "stream",
          "name": "stdout",
          "text": [
            "10-Day VaR (99% confidence): -0.09026626372184467\n"
          ]
        }
      ]
    },
    {
      "cell_type": "code",
      "source": [
        "# CVaR formula (expected loss beyond VaR threshold)\n",
        "CVaR_10d = -(1 / (1 - 0.99)) * norm.pdf(z_score) * portfolio_std * np.sqrt(10)\n",
        "\n",
        "print(f\"10-Day CVaR (99% confidence): {CVaR_10d}\")\n"
      ],
      "metadata": {
        "colab": {
          "base_uri": "https://localhost:8080/"
        },
        "id": "qbTDFYrZFddb",
        "outputId": "3c4f0046-898d-4875-ee68-18a1b039212d"
      },
      "execution_count": 43,
      "outputs": [
        {
          "output_type": "stream",
          "name": "stdout",
          "text": [
            "10-Day CVaR (99% confidence): -0.10341485569441607\n"
          ]
        }
      ]
    },
    {
      "cell_type": "code",
      "source": [
        "import numpy as np\n",
        "import pandas as pd\n",
        "import matplotlib.pyplot as plt\n",
        "from scipy.stats import norm"
      ],
      "metadata": {
        "id": "PzhkLtphHcuN"
      },
      "execution_count": 44,
      "outputs": []
    },
    {
      "cell_type": "code",
      "source": [
        "def hull_white_eso(S, K, T, r, sigma, vesting_period, early_exercise_factor):\n",
        "    \"\"\"\n",
        "    Hull-White (2004) model for valuing Executive Stock Options (ESOs).\n",
        "\n",
        "    Parameters:\n",
        "    S : float  -> Current stock price\n",
        "    K : float  -> Strike price\n",
        "    T : float  -> Time to maturity (years)\n",
        "    r : float  -> Risk-free interest rate (as decimal)\n",
        "    sigma : float  -> Volatility of stock price (as decimal)\n",
        "    vesting_period : float  -> Vesting period (years)\n",
        "    early_exercise_factor : float  -> Factor to model early exercise behavior (0 to 1)\n",
        "\n",
        "    Returns:\n",
        "    ESO value (float)\n",
        "    \"\"\"\n",
        "\n",
        "    # Adjusted time to maturity considering early exercise\n",
        "    adjusted_T = max(T - vesting_period, 0) * early_exercise_factor\n",
        "\n",
        "    # Compute d1 and d2 using Black-Scholes framework\n",
        "    d1 = (np.log(S / K) + (r + 0.5 * sigma ** 2) * adjusted_T) / (sigma * np.sqrt(adjusted_T))\n",
        "    d2 = d1 - sigma * np.sqrt(adjusted_T)\n",
        "\n",
        "    # Compute ESO price (adjusting for vesting)\n",
        "    ESO_value = (S * norm.cdf(d1) - K * np.exp(-r * adjusted_T) * norm.cdf(d2)) * np.exp(-r * vesting_period)\n",
        "\n",
        "    return max(ESO_value, 0)  # Ensure non-negative option value"
      ],
      "metadata": {
        "id": "f1io4XlRHcxa"
      },
      "execution_count": 45,
      "outputs": []
    },
    {
      "cell_type": "code",
      "source": [
        "S = 100  # Current stock price\n",
        "K = 100  # Strike price\n",
        "T = 5    # Maturity in years\n",
        "r = 0.03  # Risk-free rate\n",
        "vesting_period = 2  # Vesting period in years\n",
        "early_exercise_factor = 0.8  # Factor for early exercise behavior\n"
      ],
      "metadata": {
        "id": "b5rFWgSmHc08"
      },
      "execution_count": 46,
      "outputs": []
    },
    {
      "cell_type": "code",
      "source": [
        "volatility_values = np.linspace(0.1, 0.6, 50)\n",
        "eso_values = [hull_white_eso(S, K, T, r, sigma, vesting_period, early_exercise_factor) for sigma in volatility_values]\n"
      ],
      "metadata": {
        "id": "h270AlkoHc5Q"
      },
      "execution_count": 47,
      "outputs": []
    },
    {
      "cell_type": "code",
      "source": [
        "plt.figure(figsize=(8,5))\n",
        "plt.plot(volatility_values, eso_values, label=\"ESO Value vs Volatility\")\n",
        "plt.xlabel(\"Volatility (σ)\")\n",
        "plt.ylabel(\"ESO Value\")\n",
        "plt.title(\"Effect of Volatility on ESO Value (Hull-White Model)\")\n",
        "plt.legend()\n",
        "plt.show()"
      ],
      "metadata": {
        "colab": {
          "base_uri": "https://localhost:8080/",
          "height": 487
        },
        "id": "_gCE0FfHHc9b",
        "outputId": "f23e2996-f9f9-48d9-c635-b1c7434deffe"
      },
      "execution_count": 48,
      "outputs": [
        {
          "output_type": "display_data",
          "data": {
            "text/plain": [
              "<Figure size 800x500 with 1 Axes>"
            ],
            "image/png": "[encoded data removed]"
          },
          "metadata": {}
        }
      ]
    },
    {
      "cell_type": "code",
      "source": [
        "sigma = 0.2  # Volatility (define this!)"
      ],
      "metadata": {
        "id": "adx5Zn_lH8Dz"
      },
      "execution_count": 53,
      "outputs": []
    },
    {
      "cell_type": "code",
      "source": [
        "risk_free_rates = np.linspace(0.01, 0.1, 50)  # Range of risk-free rates\n",
        "eso_values_rf = [hull_white_eso(S, K, T, rf, sigma, vesting_period, early_exercise_factor) for rf in risk_free_rates]\n",
        "\n",
        "plt.figure(figsize=(8,5))\n",
        "plt.plot(risk_free_rates, eso_values_rf, label=\"ESO Value vs Risk-Free Rate\", color=\"red\")\n",
        "plt.xlabel(\"Risk-Free Rate (r)\")\n",
        "plt.ylabel(\"ESO Value\")\n",
        "plt.title(\"Effect of Risk-Free Rate on ESO Value\")\n",
        "plt.legend()\n",
        "plt.show()\n"
      ],
      "metadata": {
        "colab": {
          "base_uri": "https://localhost:8080/",
          "height": 487
        },
        "id": "rz7hLPm_FdhH",
        "outputId": "665aeba3-d7bd-474f-efa7-53fc88a6a61d"
      },
      "execution_count": 54,
      "outputs": [
        {
          "output_type": "display_data",
          "data": {
            "text/plain": [
              "<Figure size 800x500 with 1 Axes>"
            ],
            "image/png": "[encoded data removed]"
          },
          "metadata": {}
        }
      ]
    },
    {
      "cell_type": "code",
      "source": [
        "early_exercise_factors = np.linspace(0.5, 1, 50)\n",
        "eso_values_exercise = [hull_white_eso(S, K, T, r, sigma, vesting_period, e) for e in early_exercise_factors]\n",
        "\n",
        "plt.figure(figsize=(8,5))\n",
        "plt.plot(early_exercise_factors, eso_values_exercise, label=\"ESO Value vs Early Exercise Factor\", color=\"purple\")\n",
        "plt.xlabel(\"Early Exercise Factor\")\n",
        "plt.ylabel(\"ESO Value\")\n",
        "plt.title(\"Effect of Early Exercise Behavior on ESO Value\")\n",
        "plt.legend()\n",
        "plt.show()\n"
      ],
      "metadata": {
        "colab": {
          "base_uri": "https://localhost:8080/",
          "height": 487
        },
        "id": "2tezYuSiICLu",
        "outputId": "7c91af33-84cf-40c0-b8ac-e3e0a75a8033"
      },
      "execution_count": 55,
      "outputs": [
        {
          "output_type": "display_data",
          "data": {
            "text/plain": [
              "<Figure size 800x500 with 1 Axes>"
            ],
            "image/png": "[encoded data removed]"
          },
          "metadata": {}
        }
      ]
    }
  ]
}